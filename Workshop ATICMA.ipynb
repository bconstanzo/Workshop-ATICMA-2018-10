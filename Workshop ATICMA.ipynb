{
 "cells": [
  {
   "cell_type": "markdown",
   "metadata": {},
   "source": [
    "# Introducción al Machine Learning con Python\n",
    "## Ejercicio: Reuters Dataset\n",
    "\n",
    "Para este ejemplo vamos a utilizar NumPy, matplotlib y Keras. Todos estos ya se encuentran disponibles en Google Colaboratory, asique no es necesario instalar nada.\n",
    "\n",
    "Si quieren seguir el ejemplo de manera local en sus computadoras, les recomendamos utilizar la distribución [Anaconda](https://www.anaconda.com/) como su entorno de Python, para minimizar las complicaciones con la instalación de los paquetes.\n",
    "\n",
    "Este ejercicio está basado en notebooks de François Chollet disponibles en https://github.com/fchollet/deep-learning-with-python-notebooks."
   ]
  },
  {
   "cell_type": "markdown",
   "metadata": {},
   "source": [
    "### Preparación del entorno y datos\n",
    "En primer lugar vamos a cargar las librerías que necesitamos para el ejemplo:\n",
    "\n",
    " * NumPy es la librería de cálculo numérico por excelencia en Python, y se utiliza extensamente en el análisis de datos, machine learning y deep learning.\n",
    " * Matplotlib es la librería más utilizada para el graficado de datos y funciones matemáticas.\n",
    " * Keras es la librería que nos permite abstraernos de los detalles de bajo nivel de librerías como TensorFlow, Theano y CNTK para trabajar con redes neuronales profundas (y otros modelos de Deep Learning) de manera fácil.\n",
    "   * Desde `keras.datasets` importamos reuters, el dataset con el que vamos a trabajar este ejemplo.\n",
    "   * También importamos `layers` y `models`, para poder definir las redes neuronales que queremos entrenar."
   ]
  },
  {
   "cell_type": "code",
   "execution_count": 1,
   "metadata": {},
   "outputs": [
    {
     "name": "stderr",
     "output_type": "stream",
     "text": [
      "Using TensorFlow backend.\n"
     ]
    }
   ],
   "source": [
    "import numpy as np\n",
    "import matplotlib.pyplot as plt\n",
    "\n",
    "from keras.datasets import reuters\n",
    "from keras import layers, models"
   ]
  },
  {
   "cell_type": "code",
   "execution_count": 2,
   "metadata": {},
   "outputs": [],
   "source": [
    "(train_data, train_labels), (test_data, test_labels) = reuters.load_data(num_words=10000)"
   ]
  },
  {
   "cell_type": "code",
   "execution_count": 4,
   "metadata": {},
   "outputs": [
    {
     "data": {
      "text/plain": [
       "(8982, 2246)"
      ]
     },
     "execution_count": 4,
     "metadata": {},
     "output_type": "execute_result"
    }
   ],
   "source": [
    "len(train_data), len(test_data)"
   ]
  },
  {
   "cell_type": "markdown",
   "metadata": {},
   "source": [
    "El dataset reuters consiste en un poco más de 11,000 cables de noticias de la agencia de noticias Reuters. Está codificado de manera que cada palabra ha sido reemplazada por un número. Por como cargamos los datos, vamos a manejar un vocabulario compuesto por las 10,000 palabras más comunes, y las palabras que no entren en esta categoría van a ser representadas por un número particular que indica \"palabra desconocida\".\n",
    "\n",
    "Si queremos leer los cables, es necesario traducirlos de vuelta a palabras. Esto se puede hacer mediante el indice de palabras del dataset, y definiendo una función que lo recorra de manera inversa:"
   ]
  },
  {
   "cell_type": "code",
   "execution_count": 9,
   "metadata": {},
   "outputs": [],
   "source": [
    "word_index = reuters.get_word_index()\n",
    "reverse_word_index = dict([(value, key) for key, value in word_index.items()])\n",
    "\n",
    "def decode_newswire(nw):\n",
    "    return \" \".join(reverse_word_index.get(i - 3, \"?\") for i in nw)"
   ]
  },
  {
   "cell_type": "code",
   "execution_count": 10,
   "metadata": {},
   "outputs": [
    {
     "data": {
      "text/plain": [
       "'? ? ? said as a result of its december acquisition of space co it expects earnings per share in 1987 of 1 15 to 1 30 dlrs per share up from 70 cts in 1986 the company said pretax net should rise to nine to 10 mln dlrs from six mln dlrs in 1986 and rental operation revenues to 19 to 22 mln dlrs from 12 5 mln dlrs it said cash flow per share this year should be 2 50 to three dlrs reuter 3'"
      ]
     },
     "execution_count": 10,
     "metadata": {},
     "output_type": "execute_result"
    }
   ],
   "source": [
    "decode_newswire(train_data[0])"
   ]
  },
  {
   "cell_type": "markdown",
   "metadata": {},
   "source": [
    "Una vez cargados los datos, es necesario codificarlos de manera adecuada para que la red neuronal los pueda trabajar. Una de las formas de hacer esto es definiendo dos funciones, una para vectorizar los datos de entrada, y otra para codificar la categoría de cada cable:"
   ]
  },
  {
   "cell_type": "code",
   "execution_count": 13,
   "metadata": {},
   "outputs": [],
   "source": [
    "def vectorize_sequences(sequences, dimension=10000):\n",
    "    results = np.zeros((len(sequences), dimension))\n",
    "    for i, sequence in enumerate(sequences):\n",
    "        results[i, sequence] = 1.\n",
    "    return results\n",
    "\n",
    "def to_one_hot(labels, dimension=46):\n",
    "    results = np.zeros((len(labels), dimension))\n",
    "    for i, label in enumerate(labels):\n",
    "        results[i, label] = 1.\n",
    "    return results"
   ]
  },
  {
   "cell_type": "markdown",
   "metadata": {},
   "source": [
    "La función `vectorize_sequences` se usa para codificar el texto de los cables mediante una representación conocida como _bag of words_. Cada vector resultante tiene 10,000 elementos, con valor 0 o 1 y de esta manera se indica la presencia de una palabra en el cable.\n",
    "\n",
    "La función `to_one_hot` se ocupa de codificar las etiquetas, y genera un vector de 46 elementos donde todos tienen valor 0, excepto la categoría a la cual corresponde la noticia del cable. La función `to_one_hot` es equivalente a `keras.utils.to_categorical`. Si bien en general lo mejor es utilizar las funciones estandarizadas de la librería, para que el ejercicio sea lo más claro posible se optó por definirla en el notebook y poder ver su funcionamiento.\n",
    "\n",
    "Una vez definidas estas funciones, debemos convertir los datos a estas representaciones:"
   ]
  },
  {
   "cell_type": "code",
   "execution_count": 14,
   "metadata": {},
   "outputs": [],
   "source": [
    "x_train = vectorize_sequences(train_data)\n",
    "x_test = vectorize_sequences(test_data)\n",
    "y_train = to_one_hot(train_labels)\n",
    "y_test = to_one_hot(test_labels)"
   ]
  },
  {
   "cell_type": "markdown",
   "metadata": {},
   "source": [
    "Además de codificar los datos, muchas veces es útil separar el conjunto de entrenamiento en dos: un conjunto de entrenamiento parcial, y un conjunto de validación. Hay distintas estrategias de validación, pero por la cantidad de datos que tenemos disponibles en este caso vamos a adoptar la más simple: simplemente separar un conjunto de los datos de entrenamiento."
   ]
  },
  {
   "cell_type": "code",
   "execution_count": 17,
   "metadata": {},
   "outputs": [],
   "source": [
    "x_val = x_train[:1000]\n",
    "partial_x_train = x_train[1000:]\n",
    "y_val = y_train[:1000]\n",
    "partial_y_train = y_train[1000:]A"
   ]
  },
  {
   "cell_type": "markdown",
   "metadata": {},
   "source": [
    "### Definir el modelo\n",
    "Ahora que cargamos los datos, es necesario definir el modelo o la arquitectura de la red neuronal que utilizaremos. Para simplificar la experimentación y las pruebas, vamos a definir una función que nos va a devolver un nuevo modelo, listo para entrenar:"
   ]
  },
  {
   "cell_type": "code",
   "execution_count": 18,
   "metadata": {},
   "outputs": [],
   "source": [
    "def get_model():\n",
    "    model = models.Sequential()\n",
    "    model.add(layers.Dense(64, activation=\"relu\", input_shape=(10000,)))\n",
    "    model.add(layers.Dense(64, activation=\"relu\"))\n",
    "    model.add(layers.Dense(46, activation=\"softmax\"))\n",
    "    model.compile(optimizer=\"rmsprop\",\n",
    "                  loss=\"categorical_crossentropy\",\n",
    "                  metrics=[\"accuracy\"])\n",
    "    return model"
   ]
  },
  {
   "cell_type": "markdown",
   "metadata": {},
   "source": [
    "Veamos en detalle las acciones y decisiones que se tomaron para este modelo inicial:\n",
    " * En primer lugar, definimos que el modelo es secuencial, es decir, que las capas del mismo se suceden una a continuación de la otra.\n",
    " * Luego agregamos la primer capa, 64 neuronas con función de activación tipo ReLU. Dado que es la primer capa del modelo, debemos especificar el la forma de las neuronas de entrada indicandolo con la tupla `(10000,)`, es decir, la primer capa del modelo espera un vector de 10,000 elementos de largo.\n",
    " * Luego agregamos otra capa con 64 neuronas y activación ReLU. Keras ya no necesita que le indiquemos el `input_shape`, puede derivarlo de la capa anterior de manera automática.\n",
    " * La última capa la definimos con 46 neuronas y función de activación softmax. Esta función de activación representa una función de densidad de probabilidad entre todas sus neuronas, que les da un valor entre 0 y 1, y se asegura que todas sumen 1 entre sí.\n",
    " * En último lugar, compilamos el modelo con los siguientes parámetros:\n",
    "   * El optimizador `rmsprop` es estándar y funciona bien para el entrenamiento de redes neuronales. Otros optimizadores disponibles son `sgd`, `adadelta`, `adam`, `adamax`, y `nadam`.\n",
    "   * La función de error o loss que elegimos es `categorical_crossentropy`, que es la función adecuada para el caso de clasificación multicategoría que estamos tratando de resolver.\n",
    "   * Indicamos que sólo nos interesa seguir una métrica en el proceso de entrenamiento, la precisión (accuracy) del modelo.\n",
    "\n",
    "Ahora sólo nos resta entrenar el modelo con los datos de entrenamiento parcial y validación, para detectar cómo se comporta y cuál va a ser el punto de entrenamiento óptimo para los datos que tenemos:"
   ]
  },
  {
   "cell_type": "code",
   "execution_count": 19,
   "metadata": {},
   "outputs": [
    {
     "name": "stdout",
     "output_type": "stream",
     "text": [
      "Train on 7982 samples, validate on 1000 samples\n",
      "Epoch 1/20\n",
      "7982/7982 [==============================] - 9s 1ms/step - loss: 2.5322 - acc: 0.4955 - val_loss: 1.7208 - val_acc: 0.6120\n",
      "Epoch 2/20\n",
      "7982/7982 [==============================] - 1s 170us/step - loss: 1.4452 - acc: 0.6879 - val_loss: 1.3459 - val_acc: 0.7060\n",
      "Epoch 3/20\n",
      "7982/7982 [==============================] - 2s 191us/step - loss: 1.0953 - acc: 0.7651 - val_loss: 1.1708 - val_acc: 0.7430\n",
      "Epoch 4/20\n",
      "7982/7982 [==============================] - 1s 169us/step - loss: 0.8697 - acc: 0.8165 - val_loss: 1.0793 - val_acc: 0.7590\n",
      "Epoch 5/20\n",
      "7982/7982 [==============================] - 1s 173us/step - loss: 0.7034 - acc: 0.8472 - val_loss: 0.9844 - val_acc: 0.7810\n",
      "Epoch 6/20\n",
      "7982/7982 [==============================] - 2s 203us/step - loss: 0.5667 - acc: 0.8802 - val_loss: 0.9411 - val_acc: 0.8040\n",
      "Epoch 7/20\n",
      "7982/7982 [==============================] - 1s 175us/step - loss: 0.4581 - acc: 0.9048 - val_loss: 0.9083 - val_acc: 0.8020\n",
      "Epoch 8/20\n",
      "7982/7982 [==============================] - 2s 210us/step - loss: 0.3695 - acc: 0.9231 - val_loss: 0.9363 - val_acc: 0.7890\n",
      "Epoch 9/20\n",
      "7982/7982 [==============================] - 1s 181us/step - loss: 0.3032 - acc: 0.9315 - val_loss: 0.8917 - val_acc: 0.8090\n",
      "Epoch 10/20\n",
      "7982/7982 [==============================] - 1s 176us/step - loss: 0.2537 - acc: 0.9414 - val_loss: 0.9071 - val_acc: 0.8110\n",
      "Epoch 11/20\n",
      "7982/7982 [==============================] - 1s 175us/step - loss: 0.2187 - acc: 0.9471 - val_loss: 0.9177 - val_acc: 0.8130\n",
      "Epoch 12/20\n",
      "7982/7982 [==============================] - 2s 193us/step - loss: 0.1873 - acc: 0.9508 - val_loss: 0.9027 - val_acc: 0.8130\n",
      "Epoch 13/20\n",
      "7982/7982 [==============================] - 1s 173us/step - loss: 0.1703 - acc: 0.9521 - val_loss: 0.9323 - val_acc: 0.8110\n",
      "Epoch 14/20\n",
      "7982/7982 [==============================] - 1s 172us/step - loss: 0.1536 - acc: 0.9554 - val_loss: 0.9689 - val_acc: 0.8050\n",
      "Epoch 15/20\n",
      "7982/7982 [==============================] - 1s 173us/step - loss: 0.1390 - acc: 0.9560 - val_loss: 0.9686 - val_acc: 0.8150\n",
      "Epoch 16/20\n",
      "7982/7982 [==============================] - 1s 173us/step - loss: 0.1313 - acc: 0.9560 - val_loss: 1.0220 - val_acc: 0.8060\n",
      "Epoch 17/20\n",
      "7982/7982 [==============================] - 2s 190us/step - loss: 0.1217 - acc: 0.9579 - val_loss: 1.0254 - val_acc: 0.7970\n",
      "Epoch 18/20\n",
      "7982/7982 [==============================] - 1s 178us/step - loss: 0.1198 - acc: 0.9582 - val_loss: 1.0430 - val_acc: 0.8060\n",
      "Epoch 19/20\n",
      "7982/7982 [==============================] - 1s 186us/step - loss: 0.1138 - acc: 0.9597 - val_loss: 1.0955 - val_acc: 0.7970\n",
      "Epoch 20/20\n",
      "7982/7982 [==============================] - 2s 193us/step - loss: 0.1111 - acc: 0.9593 - val_loss: 1.0674 - val_acc: 0.8020\n"
     ]
    }
   ],
   "source": [
    "model = get_model()\n",
    "history = model.fit(\n",
    "    partial_x_train,\n",
    "    partial_y_train,\n",
    "    epochs=20,\n",
    "    batch_size=512,\n",
    "    validation_data=(x_val, y_val),\n",
    ")"
   ]
  },
  {
   "cell_type": "markdown",
   "metadata": {},
   "source": [
    "El objeto `history` tiene toda la información del entrenamiento en cada época. Vamos a utilizarlo para poder ver gráficamente cómo se fue comportando el entrenamiento, y poder detectar en qué época nos conviene detenerlo para que nuestro modelo se comporte de la mejor manera posible:"
   ]
  },
  {
   "cell_type": "code",
   "execution_count": 28,
   "metadata": {},
   "outputs": [],
   "source": [
    "def draw_history(history):\n",
    "    h = history.history\n",
    "    epochs = range(1, len(h[\"loss\"]) + 1)\n",
    "    plt.figure(1, figsize=(16, 16))\n",
    "    plt.clf()\n",
    "    # primer gráfico\n",
    "    plt.subplot(221)\n",
    "    plt.plot(epochs, h[\"loss\"], \"bo\", label=\"Error del entrenamiento\")\n",
    "    plt.plot(epochs, h[\"val_loss\"], \"b\", label=\"Error de validación\")\n",
    "    plt.xlabel(\"Épocas\")\n",
    "    plt.ylabel(\"Error\")\n",
    "    plt.legend()\n",
    "    # segundo gráfico\n",
    "    plt.subplot(222)\n",
    "    plt.plot(epochs, h[\"acc\"], \"bo\", label=\"Precisión del entrenamiento\")\n",
    "    plt.plot(epochs, h[\"val_acc\"], \"b\", label=\"Precisión de validación\")\n",
    "    plt.xlabel(\"Épocas\")\n",
    "    plt.ylabel(\"Preicisión\")\n",
    "    plt.legend()\n",
    "    # ahora mostramos todo junto\n",
    "    plt.show()"
   ]
  },
  {
   "cell_type": "code",
   "execution_count": 29,
   "metadata": {},
   "outputs": [
    {
     "data": {
      "image/png": "[encoded data removed]",
      "text/plain": [
       "<Figure size 1152x1152 with 2 Axes>"
      ]
     },
     "metadata": {
      "needs_background": "light"
     },
     "output_type": "display_data"
    }
   ],
   "source": [
    "draw_history(history)"
   ]
  },
  {
   "cell_type": "code",
   "execution_count": null,
   "metadata": {},
   "outputs": [],
   "source": []
  }
 ],
 "metadata": {
  "kernelspec": {
   "display_name": "Python 3",
   "language": "python",
   "name": "python3"
  },
  "language_info": {
   "codemirror_mode": {
    "name": "ipython",
    "version": 3
   },
   "file_extension": ".py",
   "mimetype": "text/x-python",
   "name": "python",
   "nbconvert_exporter": "python",
   "pygments_lexer": "ipython3",
   "version": "3.5.6"
  }
 },
 "nbformat": 4,
 "nbformat_minor": 2
}
